{
 "cells": [
  {
   "cell_type": "markdown",
   "metadata": {},
   "source": [
    "## Imports"
   ]
  },
  {
   "cell_type": "code",
   "execution_count": 26,
   "metadata": {},
   "outputs": [],
   "source": [
    "import numpy as np\n",
    "import matplotlib.pyplot as plt\n",
    "import random\n"
   ]
  },
  {
   "cell_type": "markdown",
   "metadata": {},
   "source": [
    "## Functions"
   ]
  },
  {
   "cell_type": "code",
   "execution_count": 27,
   "metadata": {},
   "outputs": [],
   "source": [
    "## input data = array of all dimensions \n",
    "## example of imput data --> [[1,2],[2,1]..] || [[1,2,3],[4,5,6]..]  ... \n",
    "\n",
    "def schwefel(data):\n",
    "    result = []   \n",
    "    n = len(data[0])\n",
    "    for i in range(len(data)):\n",
    "      result.append((418.9829*n) - (np.sum( data[i] * np.sin( np.sqrt( np.abs( data[i] ))))))  \n",
    "    return result \n",
    "\n",
    "def sum_squared(data):\n",
    "    result = []\n",
    "    for i in range(len(data)):\n",
    "      n = len(data[i])\n",
    "      j = np.arange( 1., n+1 )\n",
    "      result.append(np.sum(j*np.power(data[i],2)))  \n",
    "    return result\n",
    "\n",
    "def sphere_function(data):\n",
    "    result = []\n",
    "    for i in range(len(data)):\n",
    "      result.append(np.sum(np.power(data[i],2)))  \n",
    "    return result\n",
    "\n",
    "def rastrigin(data):\n",
    "    result = []\n",
    "    for i in range(len(data)):\n",
    "      n = len(data[i])\n",
    "      result.append(10*n+sum(np.power(data[i],2)-10*np.cos([val*2*np.pi for val in data[i]])))\n",
    "    return result\n",
    "\n",
    "def zakharov(data): \n",
    "    result = []\n",
    "    for i in range(len(data)):\n",
    "      n = len(data[i])\n",
    "      j = np.arange( 1., n+1 )\n",
    "      s2 = sum( j * data[i] ) / 2\n",
    "      result.append(sum( np.power(data[i],2)) + np.power(s2,2) + np.power(s2,4))\n",
    "    return result\n",
    "\n",
    "\n",
    "    \n"
   ]
  },
  {
   "cell_type": "code",
   "execution_count": 28,
   "metadata": {},
   "outputs": [],
   "source": [
    "def local_search(fun,lim_up,lim_down,dimension=2,iterations=100,\n",
    "                        num_neighbours=100,s_div=0.1):\n",
    "    points_,generated_val,points_fval = [],[],[] \n",
    "    curr_best = start = np.random.uniform(lim_up,lim_down,(1,dimension))\n",
    "    start_func = fun(start)\n",
    "    for i in range(iterations):\n",
    "        generated_val = []\n",
    "        for j in range(num_neighbours):\n",
    "            current_test = np.random.normal(curr_best,s_div) \n",
    "            while(True):\n",
    "                if(((current_test>=lim_up).all() and (current_test<=lim_down).all())):\n",
    "                    generated_val.append(current_test)\n",
    "                    break\n",
    "                else:\n",
    "                    current_test = np.random.normal(curr_best,s_div)\n",
    "        func_vals=np.array(list(map(fun,generated_val))).tolist()\n",
    "        minimal_value=min(func_vals)\n",
    "        if(minimal_value<start_func):\n",
    "            curr_best = generated_val[func_vals.index(minimal_value)]\n",
    "            start_func=minimal_value\n",
    "        points_.append(curr_best)\n",
    "        points_fval.append(start_func)\n",
    "    return points_,points_fval\n",
    "\n",
    "def hill_climber(fun,lim_up,lim_down,dimension=2,iterations=100,\n",
    "                        num_neighbours=100,s_div=0.1):\n",
    "    points_,generated_val,points_fval = [],[],[] \n",
    "    curr_best = start = np.random.uniform(lim_up,lim_down,(1,dimension))\n",
    "    start_func = fun(start)\n",
    "    for i in range(iterations):\n",
    "        generated_val = []\n",
    "        for j in range(num_neighbours):\n",
    "            current_test = np.random.normal(curr_best,s_div) \n",
    "            while(True):\n",
    "                if(((current_test>=lim_up).all() and (current_test<=lim_down).all())):\n",
    "                    generated_val.append(current_test)\n",
    "                    break\n",
    "                else:\n",
    "                    current_test = np.random.normal(curr_best,s_div)\n",
    "        func_vals=np.array(list(map(fun,generated_val))).tolist()\n",
    "        minimal_value=min(func_vals)\n",
    "        curr_best = generated_val[func_vals.index(minimal_value)]\n",
    "        start_func=minimal_value\n",
    "        points_.append(curr_best)\n",
    "        points_fval.append(start_func)\n",
    "    return points_,points_fval"
   ]
  },
  {
   "cell_type": "code",
   "execution_count": 29,
   "metadata": {},
   "outputs": [],
   "source": [
    "schwefel_limits = [-500,500]\n",
    "rastrigin_limits = [-5.12,5.12]\n",
    "spehere_limits = [-5.12,5.12]\n",
    "sum_squared_limits = [-5.12,5.12]\n",
    "zakharov_limits = [-5,10]\n",
    "\n",
    "ls_schwefel =local_search(schwefel,schwefel_limits[0],schwefel_limits[1])\n",
    "ls_rastrigin=local_search(rastrigin,rastrigin_limits[0],rastrigin_limits[1])\n",
    "ls_sphere=local_search(sphere_function,spehere_limits[0],spehere_limits[1])\n",
    "ls_sum_squared=local_search(sum_squared,sum_squared_limits[0],sum_squared_limits[1])\n",
    "ls_zaharkov=local_search(zakharov,zakharov_limits[0],zakharov_limits[1])\n",
    "\n",
    "hill_schwefel=hill_climber(schwefel,schwefel_limits[0],schwefel_limits[1])\n",
    "hill_rastrigin=hill_climber(rastrigin,rastrigin_limits[0],rastrigin_limits[1])\n",
    "hill_spere=hill_climber(sphere_function,spehere_limits[0],spehere_limits[1])\n",
    "hil_sum_squared=hill_climber(sum_squared,sum_squared_limits[0],sum_squared_limits[1])\n",
    "hill_zaarkov=hill_climber(zakharov,zakharov_limits[0],zakharov_limits[1])\n"
   ]
  },
  {
   "cell_type": "markdown",
   "metadata": {},
   "source": [
    "# SCHWEFEL"
   ]
  },
  {
   "cell_type": "code",
   "execution_count": 32,
   "metadata": {},
   "outputs": [
    {
     "ename": "SyntaxError",
     "evalue": "f-string: expecting '}' (1470831957.py, line 17)",
     "output_type": "error",
     "traceback": [
      "\u001b[1;36m  Input \u001b[1;32mIn [32]\u001b[1;36m\u001b[0m\n\u001b[1;33m    plt.title(f\"{\"Local improvement\" if local else \"Hill Climp\"} improvement\", fontsize=25)\u001b[0m\n\u001b[1;37m                  ^\u001b[0m\n\u001b[1;31mSyntaxError\u001b[0m\u001b[1;31m:\u001b[0m f-string: expecting '}'\n"
     ]
    }
   ],
   "source": [
    "def plot_functions(points,points_fval,fun,limits,title,local=True):\n",
    "    local_text = \"Local search\"\n",
    "    hill_text = \"Hill Climb\"\n",
    "    fig = plt.figure()\n",
    "    plt.plot(np.arange(0,100,1),fun[1],label=title)\n",
    "    plt.xlabel('Iterations')\n",
    "    plt.ylabel('Function Value')\n",
    "    plt.title(f'{local_text if local else hill_text} {title}')\n",
    "    plt.show()\n",
    "\n",
    "    g_p=np.asarray(fun[0]).reshape((-1,2))\n",
    "\n",
    "    fig=plt.figure()\n",
    "    plt.scatter(g_p[:,0],g_p[:,1])\n",
    "    plt.scatter(g_p[0,0],g_p[0,1])\n",
    "    plt.scatter(g_p[-1,0],g_p[-1,1])\n",
    "\n",
    "    plt.title(f\"{local_text if local else hill_text} imporvement\", fontsize=25)\n",
    "    plt.show()\n",
    "\n",
    "\n",
    "\n",
    "plot_functions()\n",
    "\n",
    "fig = plt.figure()\n",
    "plt.plot(np.arange(0,100,1),ls_schwefel[1],label='Schwefel')\n",
    "plt.xlabel('Iterations')\n",
    "plt.ylabel('Function Value')\n",
    "plt.title('Local Search Schwefel')\n",
    "plt.show()\n",
    "\n",
    "g_p=np.asarray(ls_schwefel[0]).reshape((-1,2))\n",
    "x=np.linspace(schwefel_limits[0],schwefel_limits[1],100)\n",
    "y=np.linspace(schwefel_limits[0],schwefel_limits[1],100)\n",
    "\n",
    "fig=plt.figure()\n",
    "plt.scatter(g_p[:,0],g_p[:,1])\n",
    "plt.scatter(g_p[0,0],g_p[0,1])\n",
    "plt.scatter(g_p[-1,0],g_p[-1,1])\n",
    "plt.title(\"Local Search improvement\", fontsize=25)\n",
    "plt.show()\n",
    "\n",
    "fig = plt.figure()\n",
    "plt.plot(np.arange(0,100,1),hill_schwefel[1],label='Schwefel')\n",
    "plt.xlabel('Iterations')\n",
    "plt.ylabel('Function Value')\n",
    "plt.title('Hill climb Schwefel')\n",
    "plt.show()\n",
    "\n",
    "g_p=np.asarray(hill_schwefel[0]).reshape((-1,2))\n",
    "x=np.linspace(schwefel_limits[0],schwefel_limits[1],100)\n",
    "y=np.linspace(schwefel_limits[0],schwefel_limits[1],100)\n",
    "\n",
    "\n",
    "fig=plt.figure()\n",
    "plt.scatter(g_p[:,0],g_p[:,1])\n",
    "plt.scatter(g_p[0,0],g_p[0,1])\n",
    "plt.scatter(g_p[-1,0],g_p[-1,1])\n",
    "plt.title(\"Hill climb improvement\", fontsize=25)\n",
    "plt.show()"
   ]
  },
  {
   "cell_type": "code",
   "execution_count": 31,
   "metadata": {},
   "outputs": [
    {
     "data": {
      "image/png": "[encoded data removed]",
      "text/plain": [
       "<Figure size 432x288 with 1 Axes>"
      ]
     },
     "metadata": {
      "needs_background": "light"
     },
     "output_type": "display_data"
    },
    {
     "data": {
      "image/png": "[encoded data removed]",
      "text/plain": [
       "<Figure size 432x288 with 1 Axes>"
      ]
     },
     "metadata": {
      "needs_background": "light"
     },
     "output_type": "display_data"
    }
   ],
   "source": [
    "fig = plt.figure()\n",
    "plt.plot(np.arange(0,100,1),ls_rastrigin[1],label='Schwefel')\n",
    "plt.xlabel('Iterations')\n",
    "plt.ylabel('Function Value')\n",
    "plt.title('Local Search')\n",
    "plt.show()\n",
    "\n",
    "#\n",
    "g_p=np.asarray(ls_rastrigin[0]).reshape((-1,2))\n",
    "#Equation of a straight lines\n",
    "x=np.linspace(rastrigin_limits[0],rastrigin_limits[1],100)\n",
    "y=np.linspace(rastrigin_limits[0],rastrigin_limits[1],100)\n",
    "#equation of a AREA\n",
    "X,Y=np.meshgrid(x,y)\n",
    "\n",
    "\n",
    "#Genearting Plot for localSearch 3D\n",
    "fig=plt.figure()\n",
    "plt.scatter(g_p[:,0],g_p[:,1])\n",
    "plt.scatter(g_p[0,0],g_p[0,1])\n",
    "plt.scatter(g_p[-1,0],g_p[-1,1])\n",
    "plt.title(\"Local Search improvement\", fontsize=25)\n",
    "plt.show()"
   ]
  }
 ],
 "metadata": {
  "interpreter": {
   "hash": "916dbcbb3f70747c44a77c7bcd40155683ae19c65e1c03b4aa3499c5328201f1"
  },
  "kernelspec": {
   "display_name": "Python 3.8.10 64-bit",
   "language": "python",
   "name": "python3"
  },
  "language_info": {
   "codemirror_mode": {
    "name": "ipython",
    "version": 3
   },
   "file_extension": ".py",
   "mimetype": "text/x-python",
   "name": "python",
   "nbconvert_exporter": "python",
   "pygments_lexer": "ipython3",
   "version": "3.8.10"
  },
  "orig_nbformat": 4
 },
 "nbformat": 4,
 "nbformat_minor": 2
}
