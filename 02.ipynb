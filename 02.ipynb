{
 "cells": [
  {
   "cell_type": "markdown",
   "metadata": {},
   "source": [
    "## Imports"
   ]
  },
  {
   "cell_type": "code",
   "execution_count": 49,
   "metadata": {},
   "outputs": [],
   "source": [
    "import numpy as np\n",
    "import matplotlib.pyplot as plt\n"
   ]
  },
  {
   "cell_type": "markdown",
   "metadata": {},
   "source": [
    "## Functions"
   ]
  },
  {
   "cell_type": "code",
   "execution_count": 59,
   "metadata": {},
   "outputs": [],
   "source": [
    "## input data = array of all dimensions \n",
    "## example of imput data --> [[1,2],[2,1]..] || [[1,2,3],[4,5,6]..]  ... \n",
    "\n",
    "def schwefel(data):\n",
    "    result = []   \n",
    "    n = len(data[0])\n",
    "    for i in range(len(data)):\n",
    "      result.append((418.9829*n) - (np.sum( data[i] * np.sin( np.sqrt( np.abs( data[i] ))))))  \n",
    "    return result \n",
    "\n",
    "def sum_squared(data):\n",
    "    result = []\n",
    "    for i in range(len(data)):\n",
    "      n = len(data[i])\n",
    "      j = np.arange( 1., n+1 )\n",
    "      result.append(np.sum(j*np.power(data[i],2)))  \n",
    "    return result\n",
    "\n",
    "def sphere_function(data):\n",
    "    result = []\n",
    "    for i in range(len(data)):\n",
    "      result.append(np.sum(np.power(data[i],2)))  \n",
    "    return result\n",
    "\n",
    "def rastrigin(data):\n",
    "    result = []\n",
    "    for i in range(len(data)):\n",
    "      n = len(data[i])\n",
    "      result.append(10*n+sum(np.power(data[i],2)-10*np.cos([val*2*np.pi for val in data[i]])))\n",
    "    return result\n",
    "\n",
    "def zakharov(data): \n",
    "    result = []\n",
    "    for i in range(len(data)):\n",
    "      n = len(data[i])\n",
    "      j = np.arange( 1., n+1 )\n",
    "      s2 = sum( j * data[i] ) / 2\n",
    "      result.append(sum( np.power(data[i],2)) + np.power(s2,2) + np.power(s2,4))\n",
    "    return result\n",
    "\n",
    "# def local_search(function,max_iter):\n",
    "#     xt=\n",
    "#     for i in range(max_iter):\n",
    "\n",
    "def hill_climber(function,max_iter,dimension=2,limitup=5,limitdown=-5):\n",
    "    x = np.random.uniform(limitdown,limitup,(1,dimension))\n",
    "    improvments =[]\n",
    "    for i in range(max_iter):\n",
    "        x_new = x + np.random.uniform(-1,1,(1,dimension))\n",
    "        if function(x_new) < function(x):\n",
    "            # print(f\"iter:{i} oldval:{x} x_new: {x_new}\")\n",
    "            improvments.append(x_new)\n",
    "            x = x_new\n",
    "    return x,improvments\n",
    "    \n"
   ]
  },
  {
   "cell_type": "code",
   "execution_count": 60,
   "metadata": {},
   "outputs": [
    {
     "name": "stdout",
     "output_type": "stream",
     "text": [
      "(array([[ 0.02466982, -0.03934588]]), [array([[-2.38983871, -0.24410254]]), array([[-2.23389165, -1.22680061]]), array([[-2.09393294, -0.6722152 ]]), array([[-1.1147355 , -0.89192103]]), array([[-0.88889428, -0.09644302]]), array([[-0.07229405,  0.1183347 ]]), array([[-0.07712724, -0.10811967]]), array([[-0.09630073, -1.0356947 ]]), array([[-1.03363963, -1.03750688]]), array([[-1.033887  , -0.97694174]]), array([[-0.91393252,  0.01521863]]), array([[ 0.01778201, -0.09879116]]), array([[0.97306697, 0.0626457 ]]), array([[1.01427354, 0.00493246]]), array([[1.00162544, 0.00182053]]), array([[ 0.02466982, -0.03934588]])])\n"
     ]
    }
   ],
   "source": [
    "print(hill_climber(rastrigin,1000))\n",
    "# hill_climber(sphere_function,1000)"
   ]
  },
  {
   "cell_type": "code",
   "execution_count": null,
   "metadata": {},
   "outputs": [],
   "source": []
  }
 ],
 "metadata": {
  "interpreter": {
   "hash": "916dbcbb3f70747c44a77c7bcd40155683ae19c65e1c03b4aa3499c5328201f1"
  },
  "kernelspec": {
   "display_name": "Python 3.8.10 64-bit",
   "language": "python",
   "name": "python3"
  },
  "language_info": {
   "codemirror_mode": {
    "name": "ipython",
    "version": 3
   },
   "file_extension": ".py",
   "mimetype": "text/x-python",
   "name": "python",
   "nbconvert_exporter": "python",
   "pygments_lexer": "ipython3",
   "version": "3.8.10"
  },
  "orig_nbformat": 4
 },
 "nbformat": 4,
 "nbformat_minor": 2
}
