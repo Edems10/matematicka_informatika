{
 "cells": [
  {
   "cell_type": "markdown",
   "metadata": {},
   "source": [
    "# Importy"
   ]
  },
  {
   "cell_type": "code",
   "execution_count": 228,
   "metadata": {},
   "outputs": [],
   "source": [
    "import matplotlib.pyplot as plt\n",
    "import numpy as np\n",
    "import pandas as pd\n",
    "import itertools\n",
    "import time "
   ]
  },
  {
   "cell_type": "markdown",
   "metadata": {},
   "source": [
    "# MCKP Class with functions"
   ]
  },
  {
   "cell_type": "code",
   "execution_count": 229,
   "metadata": {},
   "outputs": [],
   "source": [
    "import random as rn\n",
    "import os\n",
    "\n",
    "\n",
    "class MCKP:\n",
    "    def __init__(self,class_number,item_numbers,max_combinationsombinations,number_of_iterations):\n",
    "        self.init_locals(class_number,item_numbers,max_combinationsombinations,number_of_iterations)\n",
    "        self.time_random = time.perf_counter()\n",
    "        self.sol_random_x,self.sol_random_y = self.Random_search(self.class_number,self.item_numbers,self.max_combinationsombinations,self.number_of_iterations)\n",
    "        self.time_random = time.perf_counter() - self.time_random\n",
    "        self.first_choice_intitialization, self.choi_ls = [ ], [ ]\n",
    "        self.time_simulted_annealing = time.perf_counter()\n",
    "        self.init_locals(class_number,item_numbers,max_combinationsombinations,number_of_iterations)\n",
    "        self.sol_simulated_an_x,self.sol_simulated_an_y = self.Sim_ann(self.class_number,self.item_numbers,self.max_combinationsombinations,self.number_of_iterations)\n",
    "        self.time_simulted_annealing = time.perf_counter() - self.time_simulted_annealing\n",
    "\n",
    "\n",
    "    def init_locals(self,class_number,item_numbers,max_combinationsombinations,number_of_iterations):\n",
    "        self.class_number = class_number\n",
    "        self.item_numbers = item_numbers\n",
    "        self.max_combinationsombinations = max_combinationsombinations\n",
    "        self.number_of_iterations = number_of_iterations\n",
    "        self.classes = []\n",
    "        self.combinations=[]\n",
    "        self.sorted_viz_list =[]\n",
    "        self.final_sum = 0\n",
    "        self.class_n = [i+1 for i in range(5)]\n",
    "        self.sorted_viz_list = [ ]\n",
    "        self.final_sum = 0\n",
    "        self.res_ls = []\n",
    "        self.items_list = []\n",
    "        self.first_choice_intitialization, self.choi_ls = [ ], [ ]\n",
    "\n",
    "    def get_class_numbers(self,class_number,item_numbers):\n",
    "        for _ in range(class_number):\n",
    "            item_dic = { }\n",
    "            for i in range(item_numbers):\n",
    "                item_dic.update({i+1:[np.random.randint(1,50),np.random.randint(1,50)]})\n",
    "            self.classes.append(item_dic)\n",
    "        return self.classes\n",
    "\n",
    "    def get_comb_mat(self,class_number,item_numbers):\n",
    "        for _ in range(class_number):\n",
    "            step = [ ]\n",
    "            for i in range(item_numbers):\n",
    "                step.append(i+1)\n",
    "            self.combinations.append(step)\n",
    "        return np.array(list(itertools.product(*self.combinations)))\n",
    "\n",
    "\n",
    "    def new_comb(self,first_choice_intitialization,number_of_items, g_class):\n",
    "        condition = False\n",
    "        classes, prob = [0]*len(first_choice_intitialization), [(len(first_choice_intitialization)//len(first_choice_intitialization))/10]*len(first_choice_intitialization)\n",
    "        classes = [classes[i]+i for i in range(len(classes))]\n",
    "        while condition is not True:\n",
    "            choice_idx, choice = rn.choices(classes, prob), rn.randint(1,number_of_items)\n",
    "            if first_choice_intitialization[choice_idx[0]] != g_class[choice_idx[0]][choice]:\n",
    "                condition = True\n",
    "                first_choice_intitialization[choice_idx[0]] = g_class[choice_idx[0]][choice]\n",
    "        \n",
    "        return first_choice_intitialization    \n",
    "    \n",
    "    def get_viz(self):\n",
    "        for i in range(len(self.items)):\n",
    "            sorted_ls = [ ]\n",
    "            sorted_ls.append(self.class_n[i])\n",
    "            sorted_ls.append(self.items[i])\n",
    "            sorted_ls.append(self.it_list[i][1])\n",
    "            sorted_ls.append(self.it_list[i][0])\n",
    "            self.final_sum += self.it_list[i][1]\n",
    "            self.sorted_viz_list.append(sorted_ls)\n",
    "        self.sorted_viz_list.append(['','Sum',self.final_sum,self.solution])\n",
    "        DF = pd.DataFrame(self.sorted_viz_list)\n",
    "        DF.columns = ['Class','Id','Capacity','Price']\n",
    "        return DF \n",
    "    \n",
    "    def init_choice(self,g_class):\n",
    "        for item in g_class:\n",
    "            choice = rn.randint(1,len(item))\n",
    "            self.first_choice_intitialization.append(item[choice])\n",
    "        return self.first_choice_intitialization    \n",
    "\n",
    "    def Random_search(self,number_of_clases,number_of_items,max_combinations,number_of_iterations):\n",
    "        curr_number = 10\n",
    "        it_div = number_of_iterations//curr_number\n",
    "        g_class = self.get_class_numbers(number_of_clases,number_of_items)\n",
    "        first_choice_intitialization = self.init_choice(g_class)\n",
    "        anealing_solution, anealing_solution_list = [0,max_combinations], [ ]\n",
    "        for _ in range(it_div):\n",
    "            for _ in range(curr_number):\n",
    "                current_eval, current_limit = list(map(lambda ele: ele[0],first_choice_intitialization)), list(map(lambda ele: ele[1],first_choice_intitialization))\n",
    "                current_eval, current_limit = sum(current_eval), sum(current_limit)\n",
    "                if current_eval > anealing_solution[0] and current_limit < max_combinations:\n",
    "                    anealing_solution = [current_eval,current_limit]\n",
    "                first_choice_intitialization = self.new_comb(first_choice_intitialization,number_of_items,g_class)\n",
    "                anealing_solution_list.append(anealing_solution[0])\n",
    "        return anealing_solution, anealing_solution_list\n",
    "\n",
    "    def Sim_ann(self,number_of_clases,number_of_items,max_combinations,number_of_iterations):\n",
    "        curr_number = 10\n",
    "        anealing_solution_list = []\n",
    "        current_solution = [0,0]\n",
    "        it_div = number_of_iterations//curr_number\n",
    "        g_class =  self.get_class_numbers(number_of_clases,number_of_items)\n",
    "        first_choice_intitialization= self.init_choice(g_class)\n",
    "        anealing_solution = [0,max_combinations]\n",
    "       \n",
    "        \n",
    "        for i in range(it_div):\n",
    "            for _ in range(curr_number):\n",
    "                current_eval, current_limit = list(map(lambda ele: ele[0],\n",
    "                first_choice_intitialization)), list(map(lambda ele: ele[1],\n",
    "                first_choice_intitialization))\n",
    "                current_eval, current_limit = sum(current_eval), sum(current_limit)\n",
    "                # if it %10 == 0:\n",
    "                #     print(current_eval,current_limit)\n",
    "                delta_fx = current_eval - current_solution[0]\n",
    "                if delta_fx > 0 and current_limit < max_combinations:\n",
    "                    current_solution = [current_eval,current_limit]\n",
    "                if current_eval > anealing_solution[0] and current_limit < max_combinations:\n",
    "                    anealing_solution = [current_eval,current_limit]\n",
    "                else:\n",
    "                    r = rn.uniform(0,1)\n",
    "                    #print(r)\n",
    "                    if r > np.power(np.e,-delta_fx/it_div):\n",
    "                        #print(r)\n",
    "                        current_solution = [current_eval,current_limit]\n",
    "\n",
    "                it_div = it_div-0.7*i       \n",
    "                first_choice_intitialization = self.new_comb(first_choice_intitialization,number_of_items,g_class)\n",
    "                anealing_solution_list.append(anealing_solution[0])\n",
    "        return anealing_solution, anealing_solution_list\n",
    "\n",
    "    def show_plt(self):\n",
    "        plot_x = [0]*self.number_of_iterations\n",
    "        plot_x = [plot_x[i]+i for i in range(len(plot_x))]\n",
    "        plt.plot(plot_x,self.sol_random_y, label = 'Random search')\n",
    "        plt.plot(plot_x,self.sol_simulated_an_y, label = 'Simulated Annealing')\n",
    "        plt.xticks(), plt.yticks()\n",
    "        plt.ylabel('Kvalita')\n",
    "        plt.legend()\n",
    "\n",
    "    def show_results(self):\n",
    "        print(f'Number of classes: {self.class_number}')\n",
    "        print(f'Number of items: {self.item_numbers}')\n",
    "        print(f'Random Price: {self.sol_random_x[0]}\\n Random Sum: {self.sol_random_x[1]}\\n Random Time: {self.time_random}')\n",
    "        print(f'Simulated Annealing Price: {self.sol_simulated_an_x[0]}\\n Simulated Annealing Sum: {self.sol_simulated_an_x[1]}\\n Simulated Annealing Time: {self.time_simulted_annealing}')        "
   ]
  },
  {
   "cell_type": "markdown",
   "metadata": {},
   "source": [
    "# Calling our class"
   ]
  },
  {
   "cell_type": "code",
   "execution_count": 230,
   "metadata": {},
   "outputs": [],
   "source": [
    "mckp3=MCKP(15,3,300,40000)\n",
    "mckp10 = MCKP(15,10,300,80000)"
   ]
  },
  {
   "cell_type": "code",
   "execution_count": 231,
   "metadata": {},
   "outputs": [
    {
     "name": "stdout",
     "output_type": "stream",
     "text": [
      "Number of classes: 15\n",
      "Number of items: 3\n",
      "Random Price: 509\n",
      " Random Sum: 299\n",
      " Random Time: 1.5074118999764323\n",
      "Simulated Annealing Price: 469\n",
      " Simulated Annealing Sum: 298\n",
      " Simulated Annealing Time: 1.7224111999967135\n",
      "\n",
      "\n",
      "Number of classes: 15\n",
      "Number of items: 10\n",
      "Random Price: 495\n",
      " Random Sum: 276\n",
      " Random Time: 2.522047200007364\n",
      "Simulated Annealing Price: 599\n",
      " Simulated Annealing Sum: 256\n",
      " Simulated Annealing Time: 2.972553399973549\n"
     ]
    }
   ],
   "source": [
    "mckp3.show_results()\n",
    "print('\\n')\n",
    "mckp10.show_results()"
   ]
  },
  {
   "cell_type": "markdown",
   "metadata": {},
   "source": [
    "# Showing plot for 3 item class"
   ]
  },
  {
   "cell_type": "code",
   "execution_count": 232,
   "metadata": {},
   "outputs": [
    {
     "data": {
      "image/png": "[encoded data removed]",
      "text/plain": [
       "<Figure size 432x288 with 1 Axes>"
      ]
     },
     "metadata": {
      "needs_background": "light"
     },
     "output_type": "display_data"
    }
   ],
   "source": [
    "mckp3.show_plt()"
   ]
  },
  {
   "cell_type": "markdown",
   "metadata": {},
   "source": [
    "# Showing plot for 10 item class"
   ]
  },
  {
   "cell_type": "code",
   "execution_count": 233,
   "metadata": {},
   "outputs": [
    {
     "data": {
      "image/png": "[encoded data removed]",
      "text/plain": [
       "<Figure size 432x288 with 1 Axes>"
      ]
     },
     "metadata": {
      "needs_background": "light"
     },
     "output_type": "display_data"
    }
   ],
   "source": [
    "mckp10.show_plt()"
   ]
  }
 ],
 "metadata": {
  "interpreter": {
   "hash": "4c32db6d6a218501774a5f7382e6dfbde0076604bd256a9c97bdd462b974981e"
  },
  "kernelspec": {
   "display_name": "Python 3.10.4 64-bit",
   "language": "python",
   "name": "python3"
  },
  "language_info": {
   "codemirror_mode": {
    "name": "ipython",
    "version": 3
   },
   "file_extension": ".py",
   "mimetype": "text/x-python",
   "name": "python",
   "nbconvert_exporter": "python",
   "pygments_lexer": "ipython3",
   "version": "3.10.4"
  },
  "orig_nbformat": 4
 },
 "nbformat": 4,
 "nbformat_minor": 2
}
