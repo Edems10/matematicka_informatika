{
 "cells": [
  {
   "cell_type": "code",
   "execution_count": 59,
   "metadata": {},
   "outputs": [],
   "source": [
    "import numpy as np\n",
    "import matplotlib.pyplot as plt\n",
    "import random\n",
    "import pandas as pd"
   ]
  },
  {
   "cell_type": "code",
   "execution_count": 60,
   "metadata": {},
   "outputs": [],
   "source": [
    "## input data = array of all dimensions \n",
    "## example of imput data --> [[1,2],[2,1]..] || [[1,2,3],[4,5,6]..]  ... \n",
    "\n",
    "\n",
    "\n",
    "def sphere(data):\n",
    "    data = np.sum(np.power(data, 2))\n",
    "    return data\n",
    "\n",
    "def schwefel(data):\n",
    "    x = np.sin(np.sqrt(np.abs(data)))\n",
    "    data = 418.9829 * 10 - np.sum(data * x)\n",
    "    return data\n",
    "\n",
    "def ackley_03(data):\n",
    "    x = np.cos(2 * np.pi * data)\n",
    "    sum = np.sum(np.power(data,2))\n",
    "    data = -20 * np.exp(-0.2 * np.sqrt((1/10) * sum)) - np.exp((1/10) * np.sum(x)) + 20 + np.exp(1)\n",
    "    return data\n",
    "\n",
    "def ackley_03(data):\n",
    "    x = np.cos(2 * np.pi * data)\n",
    "    sum = np.sum(np.power(data,2))\n",
    "    data = -20 * np.exp(-0.2 * np.sqrt((1/10) * sum)) - np.exp((1/10) * np.sum(x)) + 20 + np.exp(1)\n",
    "    return data\n",
    "\n",
    "def schwefel_02(data):\n",
    "    result = []   \n",
    "    n = len(data[0])\n",
    "    for i in range(len(data)):\n",
    "      result.append((418.9829*n) - (np.sum( data[i] * np.sin( np.sqrt( np.abs( data[i] ))))))  \n",
    "    return result\n",
    "\n",
    "def schwefel_an(data):\n",
    "    x = np.sin(np.sqrt(np.abs(data)))\n",
    "    data = 418.9829 * 10 - np.sum(data * x)\n",
    "    return data\n",
    "\n",
    "def sum_squared(data):\n",
    "    result = []\n",
    "    for i in range(len(data)):\n",
    "      n = len(data[i])\n",
    "      j = np.arange( 1., n+1 )\n",
    "      result.append(np.sum(j*np.power(data[i],2)))  \n",
    "    return result\n",
    "\n",
    "def rastrigin_03(data):\n",
    "    return 10*sum(np.power(data,2)-10*np.cos(data*2*np.pi))\n",
    "\n",
    "def rastrigin_an(data):\n",
    "    result = []\n",
    "    for i in range(len(data)):\n",
    "      n = len(data)\n",
    "      result.append(10*n+sum(np.power(data[i],2)-10*np.cos([val*2*np.pi for val in data])))\n",
    "    return result\n",
    "\n",
    "def zakharov(data): \n",
    "    result = []\n",
    "    for i in range(len(data)):\n",
    "      n = len(data[i])\n",
    "      j = np.arange( 1., n+1 )\n",
    "      s2 = sum( j * data[i] ) / 2\n",
    "      result.append(sum( np.power(data[i],2)) + np.power(s2,2) + np.power(s2,4))\n",
    "    return result\n",
    "\n",
    "def local_search_02(fun,lim_up,lim_down,dimension=2,iterations=1000,\n",
    "                        num_neighbours=100,s_div=0.1):\n",
    "    points_,generated_val,points_fval = [],[],[] \n",
    "    curr_best = start = np.random.uniform(lim_up,lim_down,(1,dimension))\n",
    "    start_func = fun(start)\n",
    "    for i in range(iterations):\n",
    "        generated_val = []\n",
    "        for j in range(num_neighbours):\n",
    "            current_test = np.random.normal(curr_best,s_div) \n",
    "            while(True):\n",
    "                if(((current_test>=lim_up).all() and (current_test<=lim_down).all())):\n",
    "                    generated_val.append(current_test)\n",
    "                    break\n",
    "                else:\n",
    "                    current_test = np.random.normal(curr_best,s_div)\n",
    "        func_vals=np.array(list(map(fun,generated_val))).tolist()\n",
    "        minimal_value=min(func_vals)\n",
    "        if(minimal_value<start_func):\n",
    "            curr_best = generated_val[func_vals.index(minimal_value)]\n",
    "            start_func=minimal_value\n",
    "        points_.append(curr_best)\n",
    "        points_fval.append(start_func)\n",
    "    return points_,points_fval\n",
    "\n",
    "def hill_climber_02(fun,lim_up,lim_down,dimension=2,iterations=1000,\n",
    "                        num_neighbours=100,s_div=0.1):\n",
    "    points_,generated_val,points_fval = [],[],[] \n",
    "    curr_best = start = np.random.uniform(lim_up,lim_down,(1,dimension))\n",
    "    start_func = fun(start)\n",
    "    for i in range(iterations):\n",
    "        generated_val = []\n",
    "        for j in range(num_neighbours):\n",
    "            current_test = np.random.normal(curr_best,s_div) \n",
    "            while(True):\n",
    "                if(((current_test>=lim_up).all() and (current_test<=lim_down).all())):\n",
    "                    generated_val.append(current_test)\n",
    "                    break\n",
    "                else:\n",
    "                    current_test = np.random.normal(curr_best,s_div)\n",
    "        func_vals=np.array(list(map(fun,generated_val))).tolist()\n",
    "        minimal_value=min(func_vals)\n",
    "        curr_best = generated_val[func_vals.index(minimal_value)]\n",
    "        start_func=minimal_value\n",
    "        points_.append(curr_best)\n",
    "        points_fval.append(start_func)\n",
    "    return points_,points_fval\n"
   ]
  },
  {
   "cell_type": "markdown",
   "metadata": {},
   "source": [
    "# Funcion hill climber deriverd from 02"
   ]
  },
  {
   "cell_type": "code",
   "execution_count": 61,
   "metadata": {},
   "outputs": [],
   "source": [
    "def hill_climber_03(algorithm, max_limit, min_limit, init,n=1000, dimensions=10):\n",
    "    data = np.empty(0)\n",
    "    result = []\n",
    "    for i in range(dimensions):\n",
    "        data = np.insert(data, i, init)\n",
    "        data = np.where(data < min_limit, min_limit, data)\n",
    "        data = np.where(data > max_limit, max_limit, data)\n",
    "    alg_result = algorithm(data)\n",
    "    for _ in range(n):\n",
    "        normal_gaus_f = np.empty(0)\n",
    "        for j in range(len(data)):\n",
    "            normal_gaus = np.random.normal(data[j], ((max_limit - min_limit) / 100) * 3, 10)\n",
    "            normal_gaus = np.where(normal_gaus < min_limit, min_limit, normal_gaus)\n",
    "            normal_gaus = np.where(normal_gaus > max_limit, max_limit, normal_gaus)\n",
    "            normal_gaus_f = np.append(normal_gaus_f, normal_gaus)    \n",
    "        data = normal_gaus_f\n",
    "        data_step = np.empty(0)\n",
    "        for dim in range(dimensions):\n",
    "            data1 = data[dim * 10 : (dim + 1) * 10]\n",
    "            data2 = np.empty(0)\n",
    "            for i in data1:\n",
    "                data2 = np.append(data2, algorithm(i))\n",
    "            data_dict = dict(zip(data1,data2))\n",
    "            step = min(data_dict.items(), key=lambda x: x[1])\n",
    "            data_step = np.append(data_step, step[0])\n",
    "        data = data_step\n",
    "        alg_result = algorithm(data)\n",
    "        result.append(alg_result)\n",
    "    return result"
   ]
  },
  {
   "cell_type": "markdown",
   "metadata": {},
   "source": [
    "# Function Local Search derived from 02\n"
   ]
  },
  {
   "cell_type": "code",
   "execution_count": 62,
   "metadata": {},
   "outputs": [],
   "source": [
    "def local_search_03(algorithm,max_limit, min_limit, init,dimensions =10,n=1000):\n",
    "    result = []\n",
    "    generated_data = np.empty(0)\n",
    "    for i in range(dimensions):\n",
    "        generated_data = np.insert(generated_data, i, init)\n",
    "        generated_data = np.where(generated_data < min_limit, min_limit, generated_data)\n",
    "        generated_data = np.where(generated_data > max_limit, max_limit, generated_data)\n",
    "    alg_result = algorithm(generated_data)\n",
    "    for _ in range(n):\n",
    "        gaus_normal_f = np.empty(0)\n",
    "        for i in range(len(generated_data)):\n",
    "            mu = generated_data[i]\n",
    "            sig = ((max_limit - min_limit) / 100) * 0.1\n",
    "            gaus_normal = np.random.normal(mu, sig, 9)\n",
    "            gaus_normal = np.insert(gaus_normal, 0, mu)\n",
    "            gaus_normal = np.where(gaus_normal < min_limit, min_limit, gaus_normal)\n",
    "            gaus_normal = np.where(gaus_normal > max_limit, max_limit, gaus_normal)\n",
    "            gaus_normal_f = np.append(gaus_normal_f, gaus_normal)\n",
    "        generated_data = gaus_normal_f\n",
    "        generated_data_step = np.empty(0)\n",
    "        for d in range(dimensions):\n",
    "            generated_data1 = generated_data[d * 10 : (d + 1) * 10]\n",
    "            generated_data2 = np.empty(0)\n",
    "            for i in generated_data1:\n",
    "                generated_data2 = np.append(generated_data2, algorithm(i))\n",
    "            generated_data_dict = dict(zip(generated_data1, generated_data2))\n",
    "            step = min(generated_data_dict.items(), key=lambda x: x[1])\n",
    "            generated_data_step = np.append(generated_data_step, step[0])\n",
    "        generated_data = generated_data_step\n",
    "        if (alg_result > algorithm(generated_data)):\n",
    "            alg_result = algorithm(generated_data)\n",
    "        result.append(alg_result)     \n",
    "    return result"
   ]
  },
  {
   "cell_type": "markdown",
   "metadata": {},
   "source": [
    "# Function Simulated annealning"
   ]
  },
  {
   "cell_type": "code",
   "execution_count": 63,
   "metadata": {},
   "outputs": [],
   "source": [
    "def simulated_annealing( algorithm, max, min, init,x=700, dimensions=10):\n",
    "    function_res = []\n",
    "    func_re = np.empty(0)\n",
    "    generated_data = np.empty(0)\n",
    "    for i in range(dimensions):\n",
    "        generated_data = np.insert(generated_data, i, init)\n",
    "        generated_data = np.where(generated_data < min, min, generated_data)\n",
    "        generated_data = np.where(generated_data > max, max, generated_data)\n",
    "    func_re = algorithm(generated_data)\n",
    "    for i in range(1000):\n",
    "        for _ in range(10):\n",
    "            gaus_normal_f = np.empty(0)\n",
    "            for i in range(len(generated_data)):\n",
    "                gaus_normal = np.random.normal(generated_data[i], abs((x - 0.7 * i) / 150), 1)\n",
    "                gaus_normal = np.where(gaus_normal < min, min, gaus_normal)\n",
    "                gaus_normal = np.where(gaus_normal > max, max, gaus_normal)\n",
    "                gaus_normal_f = np.append(gaus_normal_f, gaus_normal)\n",
    "            neighbor = gaus_normal_f\n",
    "            delta_fx = algorithm(neighbor) - algorithm(generated_data)\n",
    "            if (delta_fx < 0):\n",
    "                generated_data = neighbor\n",
    "            if (algorithm(neighbor) < algorithm(func_re)):\n",
    "                func_re = neighbor\n",
    "            else:\n",
    "                random_uniform = random.uniform(0, 1)\n",
    "                pwr = np.power(np.e, - delta_fx / x)\n",
    "                if (random_uniform < pwr):\n",
    "                    generated_data = neighbor\n",
    "        function_res.append(algorithm(func_re))\n",
    "        x = x - 0.7 * i\n",
    "    return function_res"
   ]
  },
  {
   "cell_type": "markdown",
   "metadata": {},
   "source": [
    "# Functions for data vizualization"
   ]
  },
  {
   "cell_type": "code",
   "execution_count": 64,
   "metadata": {},
   "outputs": [],
   "source": [
    "def show_dataframe(fun1,fun2,fun3):\n",
    "\n",
    "    minimum = np.array([np.min(fun1), np.min(fun2), np.min(fun3)])\n",
    "    maximum = np.array([np.max(fun1), np.max(hc_schwefell), np.max(sa_schwefell)])\n",
    "    mean = np.array([np.mean(fun1), np.mean(hc_schwefell), np.mean(sa_schwefell)])\n",
    "    median = np.array([np.median(fun1), np.median(hc_schwefell), np.median(sa_schwefell)])\n",
    "    std = np.array([np.std(fun1), np.std(hc_schwefell), np.std(sa_schwefell)])\n",
    "    labels = np.array(['Local Search', 'Hill Climber', 'Simulated Annealing'])\n",
    "\n",
    "    data = np.vstack([labels, minimum, maximum, mean, median, std])\n",
    "    df = pd.DataFrame(data)\n",
    "    df = df.T\n",
    "    df.columns = ['Function', 'Min', 'Max', 'Mean', 'Median', 'STD']\n",
    "    return df  \n",
    "\n",
    "def show_plot(fun1,fun2,fun3,limits_x=0,limits_y=0):\n",
    "    plt.plot(fun1[0], label = 'Hill climber')\n",
    "    plt.plot(fun2[0], label = 'Local search')\n",
    "    plt.plot(fun3[0], label = 'Simulated annealing')\n",
    "    plt.legend()\n",
    "    plt.show()\n"
   ]
  },
  {
   "cell_type": "markdown",
   "metadata": {},
   "source": [
    "# Limits for our functions"
   ]
  },
  {
   "cell_type": "code",
   "execution_count": 65,
   "metadata": {},
   "outputs": [],
   "source": [
    "schwefel_limits = [-500,500,50]\n",
    "rastrigin_limits = [-5.12,5.12,0]\n",
    "spehere_limits = [-5.12,5.12,50]\n",
    "sum_squared_limits = [-5.12,5.12,0]\n",
    "zakharov_limits = [-5,10,2]\n",
    "ackley_limits = [32.768, -32.768,4.5]\n"
   ]
  },
  {
   "cell_type": "markdown",
   "metadata": {},
   "source": [
    "# Calling ls,hc,sa"
   ]
  },
  {
   "cell_type": "code",
   "execution_count": 66,
   "metadata": {},
   "outputs": [],
   "source": [
    "hc_schwefell = []\n",
    "hc_ack = []\n",
    "hc_sphere = []\n",
    "ls_schwefel = []\n",
    "ls_ack = []\n",
    "ls_sphere = []\n",
    "sa_schwefell = []\n",
    "sa_ack = []\n",
    "sa_sphere = []\n",
    "\n",
    "for i in range(30):\n",
    "    sa_schwefell.append(simulated_annealing(schwefel, schwefel_limits[0], schwefel_limits[1],schwefel_limits[2]))\n",
    "    sa_ack.append(simulated_annealing(ackley_03, spehere_limits[0], spehere_limits[1], ackley_limits[2]))\n",
    "    sa_sphere.append(simulated_annealing(sphere, sum_squared_limits[0], sum_squared_limits[1], 4.5))\n",
    "    hc_schwefell.append(hill_climber_03(schwefel, schwefel_limits[1], schwefel_limits[0], 50))\n",
    "    hc_ack.append(hill_climber_03(ackley_03, rastrigin_limits[1], rastrigin_limits[0], 25))\n",
    "    hc_sphere.append(hill_climber_03(sphere, rastrigin_limits[1], rastrigin_limits[0],4.5))\n",
    "    ls_schwefel=local_search_03(schwefel, schwefel_limits[1], schwefel_limits[0], 50)\n",
    "    ls_sphere=local_search_03(sphere, rastrigin_limits[1], rastrigin_limits[0],4.5)\n",
    "    ls_ackley=local_search_03(ackley_03, rastrigin_limits[1], rastrigin_limits[0], 25)\n"
   ]
  },
  {
   "cell_type": "markdown",
   "metadata": {},
   "source": [
    "# Final Data presentation"
   ]
  },
  {
   "cell_type": "code",
   "execution_count": 67,
   "metadata": {},
   "outputs": [
    {
     "data": {
      "text/html": [
       "<div>\n",
       "<style scoped>\n",
       "    .dataframe tbody tr th:only-of-type {\n",
       "        vertical-align: middle;\n",
       "    }\n",
       "\n",
       "    .dataframe tbody tr th {\n",
       "        vertical-align: top;\n",
       "    }\n",
       "\n",
       "    .dataframe thead th {\n",
       "        text-align: right;\n",
       "    }\n",
       "</style>\n",
       "<table border=\"1\" class=\"dataframe\">\n",
       "  <thead>\n",
       "    <tr style=\"text-align: right;\">\n",
       "      <th></th>\n",
       "      <th>Function</th>\n",
       "      <th>Min</th>\n",
       "      <th>Max</th>\n",
       "      <th>Mean</th>\n",
       "      <th>Median</th>\n",
       "      <th>STD</th>\n",
       "    </tr>\n",
       "  </thead>\n",
       "  <tbody>\n",
       "    <tr>\n",
       "      <th>0</th>\n",
       "      <td>Local Search</td>\n",
       "      <td>3553.4791805219143</td>\n",
       "      <td>3792.019515952899</td>\n",
       "      <td>3554.3804140286306</td>\n",
       "      <td>3553.4791806831154</td>\n",
       "      <td>11.969762984153466</td>\n",
       "    </tr>\n",
       "    <tr>\n",
       "      <th>1</th>\n",
       "      <td>Hill Climber</td>\n",
       "      <td>2172.769953701444</td>\n",
       "      <td>3664.922400530494</td>\n",
       "      <td>2546.4575258177524</td>\n",
       "      <td>2404.164864698819</td>\n",
       "      <td>382.42148032199805</td>\n",
       "    </tr>\n",
       "    <tr>\n",
       "      <th>2</th>\n",
       "      <td>Simulated Annealing</td>\n",
       "      <td>2383.937414686082</td>\n",
       "      <td>2383.937414686082</td>\n",
       "      <td>2383.937414686082</td>\n",
       "      <td>2383.937414686082</td>\n",
       "      <td>0.0</td>\n",
       "    </tr>\n",
       "  </tbody>\n",
       "</table>\n",
       "</div>"
      ],
      "text/plain": [
       "              Function                 Min                Max  \\\n",
       "0         Local Search  3553.4791805219143  3792.019515952899   \n",
       "1         Hill Climber   2172.769953701444  3664.922400530494   \n",
       "2  Simulated Annealing   2383.937414686082  2383.937414686082   \n",
       "\n",
       "                 Mean              Median                 STD  \n",
       "0  3554.3804140286306  3553.4791806831154  11.969762984153466  \n",
       "1  2546.4575258177524   2404.164864698819  382.42148032199805  \n",
       "2   2383.937414686082   2383.937414686082                 0.0  "
      ]
     },
     "execution_count": 67,
     "metadata": {},
     "output_type": "execute_result"
    }
   ],
   "source": [
    "show_dataframe(ls_schwefel,hc_schwefell,sa_schwefell)"
   ]
  },
  {
   "cell_type": "code",
   "execution_count": 68,
   "metadata": {},
   "outputs": [
    {
     "data": {
      "text/html": [
       "<div>\n",
       "<style scoped>\n",
       "    .dataframe tbody tr th:only-of-type {\n",
       "        vertical-align: middle;\n",
       "    }\n",
       "\n",
       "    .dataframe tbody tr th {\n",
       "        vertical-align: top;\n",
       "    }\n",
       "\n",
       "    .dataframe thead th {\n",
       "        text-align: right;\n",
       "    }\n",
       "</style>\n",
       "<table border=\"1\" class=\"dataframe\">\n",
       "  <thead>\n",
       "    <tr style=\"text-align: right;\">\n",
       "      <th></th>\n",
       "      <th>Function</th>\n",
       "      <th>Min</th>\n",
       "      <th>Max</th>\n",
       "      <th>Mean</th>\n",
       "      <th>Median</th>\n",
       "      <th>STD</th>\n",
       "    </tr>\n",
       "  </thead>\n",
       "  <tbody>\n",
       "    <tr>\n",
       "      <th>0</th>\n",
       "      <td>Local Search</td>\n",
       "      <td>1.219881183844862e-05</td>\n",
       "      <td>13.312298574940009</td>\n",
       "      <td>2.8772748258215644</td>\n",
       "      <td>2.4295008277608332e-05</td>\n",
       "      <td>4.449372609644443</td>\n",
       "    </tr>\n",
       "    <tr>\n",
       "      <th>1</th>\n",
       "      <td>Hill Climber</td>\n",
       "      <td>0.043224657007780554</td>\n",
       "      <td>3664.922400530494</td>\n",
       "      <td>2546.4575258177524</td>\n",
       "      <td>2404.164864698819</td>\n",
       "      <td>382.42148032199805</td>\n",
       "    </tr>\n",
       "    <tr>\n",
       "      <th>2</th>\n",
       "      <td>Simulated Annealing</td>\n",
       "      <td>13.274789927055439</td>\n",
       "      <td>2383.937414686082</td>\n",
       "      <td>2383.937414686082</td>\n",
       "      <td>2383.937414686082</td>\n",
       "      <td>0.0</td>\n",
       "    </tr>\n",
       "  </tbody>\n",
       "</table>\n",
       "</div>"
      ],
      "text/plain": [
       "              Function                    Min                 Max  \\\n",
       "0         Local Search  1.219881183844862e-05  13.312298574940009   \n",
       "1         Hill Climber   0.043224657007780554   3664.922400530494   \n",
       "2  Simulated Annealing     13.274789927055439   2383.937414686082   \n",
       "\n",
       "                 Mean                  Median                 STD  \n",
       "0  2.8772748258215644  2.4295008277608332e-05   4.449372609644443  \n",
       "1  2546.4575258177524       2404.164864698819  382.42148032199805  \n",
       "2   2383.937414686082       2383.937414686082                 0.0  "
      ]
     },
     "execution_count": 68,
     "metadata": {},
     "output_type": "execute_result"
    }
   ],
   "source": [
    "show_dataframe(ls_ackley,hc_ack,sa_ack)"
   ]
  },
  {
   "cell_type": "code",
   "execution_count": 69,
   "metadata": {},
   "outputs": [
    {
     "data": {
      "text/html": [
       "<div>\n",
       "<style scoped>\n",
       "    .dataframe tbody tr th:only-of-type {\n",
       "        vertical-align: middle;\n",
       "    }\n",
       "\n",
       "    .dataframe tbody tr th {\n",
       "        vertical-align: top;\n",
       "    }\n",
       "\n",
       "    .dataframe thead th {\n",
       "        text-align: right;\n",
       "    }\n",
       "</style>\n",
       "<table border=\"1\" class=\"dataframe\">\n",
       "  <thead>\n",
       "    <tr style=\"text-align: right;\">\n",
       "      <th></th>\n",
       "      <th>Function</th>\n",
       "      <th>Min</th>\n",
       "      <th>Max</th>\n",
       "      <th>Mean</th>\n",
       "      <th>Median</th>\n",
       "      <th>STD</th>\n",
       "    </tr>\n",
       "  </thead>\n",
       "  <tbody>\n",
       "    <tr>\n",
       "      <th>0</th>\n",
       "      <td>Local Search</td>\n",
       "      <td>4.4113010262201006e-11</td>\n",
       "      <td>201.27704223784488</td>\n",
       "      <td>20.106321264727143</td>\n",
       "      <td>7.75695431910914e-10</td>\n",
       "      <td>44.93879646569611</td>\n",
       "    </tr>\n",
       "    <tr>\n",
       "      <th>1</th>\n",
       "      <td>Hill Climber</td>\n",
       "      <td>0.000673826413468659</td>\n",
       "      <td>3664.922400530494</td>\n",
       "      <td>2546.4575258177524</td>\n",
       "      <td>2404.164864698819</td>\n",
       "      <td>382.42148032199805</td>\n",
       "    </tr>\n",
       "    <tr>\n",
       "      <th>2</th>\n",
       "      <td>Simulated Annealing</td>\n",
       "      <td>262.144</td>\n",
       "      <td>2383.937414686082</td>\n",
       "      <td>2383.937414686082</td>\n",
       "      <td>2383.937414686082</td>\n",
       "      <td>0.0</td>\n",
       "    </tr>\n",
       "  </tbody>\n",
       "</table>\n",
       "</div>"
      ],
      "text/plain": [
       "              Function                     Min                 Max  \\\n",
       "0         Local Search  4.4113010262201006e-11  201.27704223784488   \n",
       "1         Hill Climber    0.000673826413468659   3664.922400530494   \n",
       "2  Simulated Annealing                 262.144   2383.937414686082   \n",
       "\n",
       "                 Mean                Median                 STD  \n",
       "0  20.106321264727143  7.75695431910914e-10   44.93879646569611  \n",
       "1  2546.4575258177524     2404.164864698819  382.42148032199805  \n",
       "2   2383.937414686082     2383.937414686082                 0.0  "
      ]
     },
     "execution_count": 69,
     "metadata": {},
     "output_type": "execute_result"
    }
   ],
   "source": [
    "show_dataframe(ls_sphere,hc_sphere,sa_sphere)"
   ]
  },
  {
   "cell_type": "code",
   "execution_count": 70,
   "metadata": {},
   "outputs": [
    {
     "data": {
      "image/png": "[encoded data removed]",
      "text/plain": [
       "<Figure size 432x288 with 1 Axes>"
      ]
     },
     "metadata": {
      "needs_background": "light"
     },
     "output_type": "display_data"
    },
    {
     "data": {
      "image/png": "[encoded data removed]",
      "text/plain": [
       "<Figure size 432x288 with 1 Axes>"
      ]
     },
     "metadata": {
      "needs_background": "light"
     },
     "output_type": "display_data"
    },
    {
     "data": {
      "image/png": "[encoded data removed]",
      "text/plain": [
       "<Figure size 432x288 with 1 Axes>"
      ]
     },
     "metadata": {
      "needs_background": "light"
     },
     "output_type": "display_data"
    }
   ],
   "source": [
    "show_plot(hc_schwefell,ls_schwefel,sa_schwefell)\n",
    "show_plot(hc_ack,ls_ackley,sa_ack)\n",
    "show_plot(hc_sphere,ls_sphere,sa_sphere)"
   ]
  }
 ],
 "metadata": {
  "interpreter": {
   "hash": "916dbcbb3f70747c44a77c7bcd40155683ae19c65e1c03b4aa3499c5328201f1"
  },
  "kernelspec": {
   "display_name": "Python 3.8.10 64-bit",
   "language": "python",
   "name": "python3"
  },
  "language_info": {
   "codemirror_mode": {
    "name": "ipython",
    "version": 3
   },
   "file_extension": ".py",
   "mimetype": "text/x-python",
   "name": "python",
   "nbconvert_exporter": "python",
   "pygments_lexer": "ipython3",
   "version": "3.8.10"
  },
  "orig_nbformat": 4
 },
 "nbformat": 4,
 "nbformat_minor": 2
}
