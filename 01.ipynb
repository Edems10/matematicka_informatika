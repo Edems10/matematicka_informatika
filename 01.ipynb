{
 "cells": [
  {
   "cell_type": "markdown",
   "metadata": {},
   "source": [
    "## Imports  "
   ]
  },
  {
   "cell_type": "code",
   "execution_count": 72,
   "metadata": {},
   "outputs": [],
   "source": [
    "import numpy as np\n",
    "import matplotlib as plot"
   ]
  },
  {
   "cell_type": "markdown",
   "metadata": {},
   "source": [
    "## functions"
   ]
  },
  {
   "cell_type": "code",
   "execution_count": 77,
   "metadata": {},
   "outputs": [],
   "source": [
    "def schwefel(data):\n",
    "    eval = []   \n",
    "    n = len(data[0])\n",
    "    for i in range(len(data)):\n",
    "      eval.append(418.9829*n - np.sum( data[i] * np.sin( np.sqrt( np.abs( data[i] )))))  \n",
    "    return eval \n",
    "\n",
    "def sum_squared(data):\n",
    "    eval = []\n",
    "    for i in range(len(data)):\n",
    "      n = len(data[i])\n",
    "      j = np.arange( 1., n+1 )\n",
    "      eval.append(np.sum(j*np.power(data[i],2)))  \n",
    "    return eval\n",
    "\n",
    "def sphere_function(data):\n",
    "    eval = []\n",
    "    for i in range(len(data)):\n",
    "      eval.append(np.sum(np.power(data[i],2)))  \n",
    "    return eval\n",
    "\n",
    "       "
   ]
  },
  {
   "cell_type": "code",
   "execution_count": 78,
   "metadata": {},
   "outputs": [
    {
     "name": "stdout",
     "output_type": "stream",
     "text": [
      "3.44\n",
      "6.0\n",
      "18.0\n",
      "2.0\n",
      "0.0\n"
     ]
    }
   ],
   "source": [
    "data =[[-1.2, 1.0], [2.0, -1.0], [4.0, 1.0], [0.0, 1.0],[0.0,0.0]]\n",
    "schwefel_data = sum_squared(data)\n",
    "for i in schwefel_data:\n",
    "    print(i)"
   ]
  }
 ],
 "metadata": {
  "interpreter": {
   "hash": "916dbcbb3f70747c44a77c7bcd40155683ae19c65e1c03b4aa3499c5328201f1"
  },
  "kernelspec": {
   "display_name": "Python 3.8.10 64-bit",
   "language": "python",
   "name": "python3"
  },
  "language_info": {
   "codemirror_mode": {
    "name": "ipython",
    "version": 3
   },
   "file_extension": ".py",
   "mimetype": "text/x-python",
   "name": "python",
   "nbconvert_exporter": "python",
   "pygments_lexer": "ipython3",
   "version": "3.8.10"
  },
  "orig_nbformat": 4
 },
 "nbformat": 4,
 "nbformat_minor": 2
}
