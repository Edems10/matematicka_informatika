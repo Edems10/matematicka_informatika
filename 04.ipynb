{
 "cells": [
  {
   "cell_type": "markdown",
   "metadata": {},
   "source": [
    "# Importy "
   ]
  },
  {
   "cell_type": "code",
   "execution_count": 18,
   "metadata": {},
   "outputs": [],
   "source": [
    "import numpy as np\n",
    "import pandas as pd\n",
    "import itertools"
   ]
  },
  {
   "cell_type": "markdown",
   "metadata": {},
   "source": [
    "# MCKP Class with functions"
   ]
  },
  {
   "cell_type": "code",
   "execution_count": 19,
   "metadata": {},
   "outputs": [],
   "source": [
    "class MCKP:\n",
    "    def __init__(self,class_number,item_numbers,max_combinations):\n",
    "        self.class_number = class_number\n",
    "        self.item_numbers = item_numbers\n",
    "        self.max_combinations = max_combinations\n",
    "        self.classes = []\n",
    "        self.combinations=[]\n",
    "        self.sorted_viz_list =[]\n",
    "        self.final_sum = 0\n",
    "        self.class_n = [i+1 for i in range(5)]\n",
    "        self.sorted_viz_list = [ ]\n",
    "        self.final_sum = 0\n",
    "        self.res_ls = []\n",
    "        self.items_list = []\n",
    "        self.solution, self.it_list, self.items,self.cominations = self.get_bags(self.class_number,self.item_numbers,self.max_combinations)\n",
    "\n",
    "    def get_class_numbers(self,class_number,item_numbers):\n",
    "        for _ in range(class_number):\n",
    "            item_dic = { }\n",
    "            for i in range(item_numbers):\n",
    "                item_dic.update({i+1:[np.random.randint(1,50),np.random.randint(1,50)]})\n",
    "            self.classes.append(item_dic)\n",
    "        return self.classes\n",
    "\n",
    "    def get_comb_mat(self,class_number,item_numbers):\n",
    "        for _ in range(class_number):\n",
    "            step = [ ]\n",
    "            for i in range(item_numbers):\n",
    "                step.append(i+1)\n",
    "            self.combinations.append(step)\n",
    "        return np.array(list(itertools.product(*self.combinations)))\n",
    "    \n",
    "    def get_viz(self):\n",
    "        for i in range(len(self.items)):\n",
    "            sorted_ls = [ ]\n",
    "            sorted_ls.append(self.class_n[i])\n",
    "            sorted_ls.append(self.items[i])\n",
    "            sorted_ls.append(self.it_list[i][1])\n",
    "            sorted_ls.append(self.it_list[i][0])\n",
    "            self.final_sum += self.it_list[i][1]\n",
    "            self.sorted_viz_list.append(sorted_ls)\n",
    "        self.sorted_viz_list.append(['','Sum',self.final_sum,self.solution])\n",
    "        DF = pd.DataFrame(self.sorted_viz_list)\n",
    "        DF.columns = ['Class','Id','Capacity','Price']\n",
    "        return DF    \n",
    "\n",
    "    def get_bags(self,class_number,item_numbers,max_combinations):\n",
    "        it_classes = self.get_class_numbers(class_number,item_numbers)\n",
    "        cb_arr = self.get_comb_mat(class_number,item_numbers)\n",
    "        \n",
    "        for i in cb_arr:\n",
    "            row_val,res,max = 0,0,0\n",
    "            for col_val in i:\n",
    "                res += it_classes[row_val][col_val][0]\n",
    "                max += it_classes[row_val][col_val][1]\n",
    "                row_val += 1\n",
    "            if max > max_combinations:\n",
    "                self.res_ls.append(class_number*50)\n",
    "            else:\n",
    "                self.res_ls.append(res)\n",
    "        min_res = min(self.res_ls)\n",
    "        inedx_min = np.argmin(self.res_ls)\n",
    "        items = cb_arr[inedx_min]\n",
    "        for i in range(class_number):\n",
    "            self.items_list.append(it_classes[i][items[i]])\n",
    "        return min_res, self.items_list, items, cb_arr"
   ]
  },
  {
   "cell_type": "markdown",
   "metadata": {},
   "source": [
    "# Calling our class"
   ]
  },
  {
   "cell_type": "code",
   "execution_count": 20,
   "metadata": {},
   "outputs": [
    {
     "name": "stdout",
     "output_type": "stream",
     "text": [
      "[[1 1 1 1 1]\n",
      " [1 1 1 1 2]\n",
      " [1 1 1 1 3]\n",
      " ...\n",
      " [3 3 3 3 1]\n",
      " [3 3 3 3 2]\n",
      " [3 3 3 3 3]]\n"
     ]
    },
    {
     "data": {
      "text/html": [
       "<div>\n",
       "<style scoped>\n",
       "    .dataframe tbody tr th:only-of-type {\n",
       "        vertical-align: middle;\n",
       "    }\n",
       "\n",
       "    .dataframe tbody tr th {\n",
       "        vertical-align: top;\n",
       "    }\n",
       "\n",
       "    .dataframe thead th {\n",
       "        text-align: right;\n",
       "    }\n",
       "</style>\n",
       "<table border=\"1\" class=\"dataframe\">\n",
       "  <thead>\n",
       "    <tr style=\"text-align: right;\">\n",
       "      <th></th>\n",
       "      <th>Class</th>\n",
       "      <th>Id</th>\n",
       "      <th>Capacity</th>\n",
       "      <th>Price</th>\n",
       "    </tr>\n",
       "  </thead>\n",
       "  <tbody>\n",
       "    <tr>\n",
       "      <th>0</th>\n",
       "      <td>1</td>\n",
       "      <td>1</td>\n",
       "      <td>12</td>\n",
       "      <td>42</td>\n",
       "    </tr>\n",
       "    <tr>\n",
       "      <th>1</th>\n",
       "      <td>2</td>\n",
       "      <td>1</td>\n",
       "      <td>12</td>\n",
       "      <td>25</td>\n",
       "    </tr>\n",
       "    <tr>\n",
       "      <th>2</th>\n",
       "      <td>3</td>\n",
       "      <td>2</td>\n",
       "      <td>11</td>\n",
       "      <td>9</td>\n",
       "    </tr>\n",
       "    <tr>\n",
       "      <th>3</th>\n",
       "      <td>4</td>\n",
       "      <td>2</td>\n",
       "      <td>14</td>\n",
       "      <td>11</td>\n",
       "    </tr>\n",
       "    <tr>\n",
       "      <th>4</th>\n",
       "      <td>5</td>\n",
       "      <td>3</td>\n",
       "      <td>50</td>\n",
       "      <td>18</td>\n",
       "    </tr>\n",
       "    <tr>\n",
       "      <th>5</th>\n",
       "      <td></td>\n",
       "      <td>Sum</td>\n",
       "      <td>99</td>\n",
       "      <td>105</td>\n",
       "    </tr>\n",
       "  </tbody>\n",
       "</table>\n",
       "</div>"
      ],
      "text/plain": [
       "  Class   Id  Capacity  Price\n",
       "0     1    1        12     42\n",
       "1     2    1        12     25\n",
       "2     3    2        11      9\n",
       "3     4    2        14     11\n",
       "4     5    3        50     18\n",
       "5        Sum        99    105"
      ]
     },
     "execution_count": 20,
     "metadata": {},
     "output_type": "execute_result"
    }
   ],
   "source": [
    "mckp = MCKP(5,3,100)\n",
    "print(mckp.cominations)\n",
    "mckp.get_viz()"
   ]
  }
 ],
 "metadata": {
  "interpreter": {
   "hash": "ca50520a13da2181dafbb59b7527e35ec300754b3b00c65b54cb94621268a757"
  },
  "kernelspec": {
   "display_name": "Python 3.10.4 64-bit",
   "language": "python",
   "name": "python3"
  },
  "language_info": {
   "codemirror_mode": {
    "name": "ipython",
    "version": 3
   },
   "file_extension": ".py",
   "mimetype": "text/x-python",
   "name": "python",
   "nbconvert_exporter": "python",
   "pygments_lexer": "ipython3",
   "version": "3.10.4"
  },
  "orig_nbformat": 4
 },
 "nbformat": 4,
 "nbformat_minor": 2
}
